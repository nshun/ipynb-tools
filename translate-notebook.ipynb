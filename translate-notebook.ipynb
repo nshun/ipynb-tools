{
  "cells": [
    {
      "cell_type": "code",
      "id": "27dc4bfe-6cb0-4147-8270-fbaaccfb8cb6",
      "metadata": {
        "tags": []
      },
      "outputs": [],
      "source": ["! pip install googletrans"]
    },
    {
      "cell_type": "code",
      "id": "da82800e-83e7-4d5b-9935-5d848eca8c18",
      "metadata": {
        "tags": []
      },
      "outputs": [],
      "source": [
        "import json\n",
        "\n",
        "from googletrans import Translator\n",
        "\n",
        "async def translate_markdown_in_ipynb(input_filename, output_filename):\n",
        "    # .ipynbファイルを読み込む\n",
        "    with open(input_filename, \"r\", encoding=\"utf-8\") as f:\n",
        "        notebook_json = json.load(f)\n",
        "\n",
        "    async with Translator() as translator:\n",
        "        # 各セルをチェックし、Markdownセルであれば翻訳\n",
        "        for cell in notebook_json.get(\"cells\", []):\n",
        "            if cell.get(\"cell_type\") == \"markdown\":\n",
        "                # セル内のテキストは通常リスト形式なので、結合して一つの文字列にする\n",
        "                original_text = \"\".join(cell.get(\"source\", []))\n",
        "                if original_text.strip():  # 空文字列でなければ\n",
        "                    translated = await translator.translate(original_text, dest=\"ja\")\n",
        "                    translated_text = translated.text\n",
        "                    # 翻訳結果をセルの内容に置換（リスト形式で保存）\n",
        "                    cell[\"source\"] = [translated_text]\n",
        "\n",
        "    # 翻訳後の内容を保存\n",
        "    with open(output_filename, \"w\", encoding=\"utf-8\") as f:\n",
        "        json.dump(notebook_json, f, ensure_ascii=False, indent=2)"
      ]
    },
    {
      "cell_type": "code",
      "id": "2c03f9e0-06ae-443f-8712-f1781a020322",
      "metadata": {
        "tags": []
      },
      "outputs": [],
      "source": [
        "input_filename = input(\"ファイル名\").strip()\n",
        "assert input_filename.endswith(\".ipynb\"), \"ファイル名は.ipynb形式である必要があります。\"\n",
        "\n",
        "output_filename = input_filename.replace(\n",
        "    \".ipynb\", \"-ja.ipynb\"\n",
        ")  # 拡張子の前に \"-ja\" をつける"
      ]
    },
    {
      "cell_type": "code",
      "id": "5735e8df-bee0-444a-a87c-1c4cc0ccbe1c",
      "metadata": {
        "tags": []
      },
      "outputs": [],
      "source": ["await translate_markdown_in_ipynb(input_filename, output_filename)"]
    },
    {
      "cell_type": "code",
      "execution_count": null,
      "id": "663a0b0d-09ac-497b-a6a0-b0fd44527db6",
      "metadata": {},
      "outputs": [],
      "source": []
    }
  ],
  "metadata": {},
  "nbformat": 4,
  "nbformat_minor": 5
}
