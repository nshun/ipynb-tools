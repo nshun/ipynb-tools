{
  "cells": [
    {
      "cell_type": "markdown",
      "id": "22112cab",
      "metadata": {},
      "source": [
        "# .ipynb の出力結果とメタデータを削除"
      ],
      "execution_count": "null",
      "outputs": []
    },
    {
      "cell_type": "code",
      "execution_count": "null",
      "id": "0d5a8222",
      "metadata": {},
      "outputs": [],
      "source": [
        "import json\n",
        "\n",
        "def clean_ipynb(input_filename, output_filename):\n",
        "    # .ipynbファイルを読み込む\n",
        "    with open(input_filename, \"r\", encoding=\"utf-8\") as f:\n",
        "        notebook_json = json.load(f)\n",
        "\n",
        "    # 各セルをチェックし、execution_count をリセットし、outputs の中身を削除\n",
        "    for cell in notebook_json.get(\"cells\", []):\n",
        "        cell[\"execution_count\"] = \"null\"\n",
        "        cell[\"outputs\"] = []\n",
        "\n",
        "    # メタデータの中身を削除\n",
        "    notebook_json[\"metadata\"] = {}\n",
        "\n",
        "    # 結果を保存\n",
        "    with open(output_filename, \"w\", encoding=\"utf-8\") as f:\n",
        "        json.dump(notebook_json, f, ensure_ascii=False, indent=2)"
      ]
    },
    {
      "cell_type": "code",
      "execution_count": "null",
      "id": "89b7ffbe",
      "metadata": {},
      "outputs": [],
      "source": [
        "input_filename = input(\"ファイル名\").strip()\n",
        "assert input_filename.endswith(\".ipynb\"), \"ファイル名は.ipynb形式である必要があります。\"\n",
        "\n",
        "output_filename = input_filename.replace(\n",
        "    \".ipynb\", \"-clean.ipynb\"\n",
        ")  # 拡張子の前に \"-clean\" をつける"
      ]
    },
    {
      "cell_type": "code",
      "execution_count": "null",
      "id": "519490b9",
      "metadata": {},
      "outputs": [],
      "source": [
        "clean_ipynb(input_filename, output_filename)"
      ]
    }
  ],
  "metadata": {},
  "nbformat": 4,
  "nbformat_minor": 5
}